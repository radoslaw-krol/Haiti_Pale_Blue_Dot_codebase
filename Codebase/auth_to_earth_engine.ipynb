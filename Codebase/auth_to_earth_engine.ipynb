{
 "cells": [
  {
   "cell_type": "code",
   "execution_count": null,
   "metadata": {},
   "outputs": [],
   "source": [
    "import os\n",
    "import json\n",
    "import ee\n",
    "import geemap\n",
    "from geemap import basemaps\n",
    "from dotenv import load_dotenv\n",
    "\n",
    "load_dotenv()\n",
    "\n",
    "resourcefile = '{path to GCP service key}'\n",
    "\n",
    "\n",
    "service_account = '{dotenv variable for service account}'\n",
    "credentials = ee.ServiceAccountCredentials(service_account, resourcefile)\n",
    "ee.Initialize(credentials, project='{project name}')"
   ]
  }
 ],
 "metadata": {
  "language_info": {
   "name": "python"
  }
 },
 "nbformat": 4,
 "nbformat_minor": 2
}
