{
 "cells": [
  {
   "cell_type": "code",
   "execution_count": null,
   "metadata": {},
   "outputs": [],
   "source": [
    "haiti = ee.FeatureCollection('USDOS/LSIB_SIMPLE/2017') \\\n",
    "    .filter(ee.Filter.eq('country_na', 'Haiti'))\n",
    "\n",
    "# Load the dataset.\n",
    "dataset = ee.Image('UMD/hansen/global_forest_change_2022_v1_10')\n",
    "\n",
    "# Clip the dataset to Haiti.\n",
    "dataset = dataset.clip(haiti)\n",
    "\n",
    "single_band = dataset.select('treecover2000')\n",
    "# Set visualization parameters for tree cover.\n",
    "treeCoverVisParam = {\n",
    "  'min': 50,\n",
    "  'max': 100,\n",
    "  'palette': ['black', 'green']\n",
    "}\n",
    "\n",
    "\n",
    "tree_cover = single_band.visualize(**treeCoverVisParam)\n",
    "\n",
    "url = tree_cover.getThumbURL({\n",
    "  'dimensions': '1024x1024',\n",
    "  'region': haiti.geometry()  # Specify the region of interest.\n",
    "})\n",
    "\n",
    "# Define the output file path for the tree cover image + name of the file\n",
    "out_file_path = '/my/folder/to_save/file/myfile.tif'\n",
    "\n",
    "# Download the tree cover image.\n",
    "geemap.download_from_url(url, out_file_name=out_file_path)"
   ]
  }
 ],
 "metadata": {
  "language_info": {
   "name": "python"
  }
 },
 "nbformat": 4,
 "nbformat_minor": 2
}
