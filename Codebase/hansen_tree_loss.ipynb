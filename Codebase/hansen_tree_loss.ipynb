{
 "cells": [
  {
   "cell_type": "code",
   "execution_count": null,
   "metadata": {},
   "outputs": [],
   "source": [
    "dataset = ee.Image('UMD/hansen/global_forest_change_2022_v1_10')\n",
    "haiti = ee.FeatureCollection('USDOS/LSIB_SIMPLE/2017') \\\n",
    "    .filter(ee.Filter.eq('country_na', 'Haiti'))\n",
    "\n",
    "\n",
    "haitiForest = dataset.clip(haiti)\n",
    "\n",
    "\n",
    "treeLossVisParam = {\n",
    "  'bands': ['lossyear'], # name of the band\n",
    "  'min': 0, # minimum value of the band - 0 represents 2000\n",
    "  'max': 22, # maximum value of the band - 22 represents 2022\n",
    "  'palette': ['yellow', 'red']\n",
    "}\n",
    "\n",
    "\n",
    "Map = geemap.Map()\n",
    "\n",
    "\n",
    "for year in range(1, 23):  # 1 to 22 represent years 2001 to 2022, however beacuse you need to range to 23 to get 2022 data\n",
    "   \n",
    "    mask = haitiForest.select('lossyear').eq(year)\n",
    "\n",
    "\n",
    "    # Masking the dataset and adding result as a new layer\n",
    "\n",
    "    image = haitiForest.updateMask(mask).visualize(**treeLossVisParam)\n",
    "    out = (f'{folder_to_store_the_files_in}{year}.tif')\n",
    "\n",
    "    geemap.ee_export_image(\n",
    "    image, filename=out, scale=300, region=haiti.geometry(), file_per_band=False\n",
    "    )\n",
    "\n"
   ]
  }
 ],
 "metadata": {
  "language_info": {
   "name": "python"
  }
 },
 "nbformat": 4,
 "nbformat_minor": 2
}
